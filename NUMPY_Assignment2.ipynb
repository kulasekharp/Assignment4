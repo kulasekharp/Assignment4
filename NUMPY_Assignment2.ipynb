{
 "cells": [
  {
   "cell_type": "code",
   "execution_count": 1,
   "metadata": {},
   "outputs": [
    {
     "name": "stdout",
     "output_type": "stream",
     "text": [
      "Enter the Moving average3\n",
      "Given a sequence of13 values :[  3   5   7   2   8  10  11  65  72  81  99 100 150]\n",
      "The moving averages with k=3\n",
      "1:\t5.0\n",
      "\n",
      "2:\t4.666666666666667\n",
      "\n",
      "3:\t5.666666666666667\n",
      "\n",
      "4:\t6.666666666666667\n",
      "\n",
      "5:\t9.666666666666666\n",
      "\n",
      "6:\t28.666666666666668\n",
      "\n",
      "7:\t49.333333333333336\n",
      "\n",
      "8:\t72.66666666666667\n",
      "\n",
      "9:\t84.0\n",
      "\n",
      "10:\t93.33333333333333\n",
      "\n",
      "11:\t116.33333333333333\n",
      "\n",
      "the moving average sequence has n-k+1=13-3+1=11values\n"
     ]
    }
   ],
   "source": [
    "\"\"\"\n",
    "Given a sequence of n values x1, x2, ..., xn and a window size k>0, the k-th moving\n",
    "average of the given sequence is defined as follows:\n",
    "The moving average sequence has n-k+1 elements as shown below.\n",
    "The moving averages with k=4 of a ten-value sequence (n=10) is shown below\n",
    "i 1 2 3 4 5 6 7 8 9 10\n",
    "===== == == == == == == == == == ==\n",
    "Input 10 20 30 40 50 60 70 80 90 100\n",
    "y1 25 = (10+20+30+40)/4\n",
    "y2 35 = (20+30+40+50)/4\n",
    "y3 45 = (30+40+50+60)/4\n",
    "y4 55 = (40+50+60+70)/4\n",
    "y5 65 = (50+60+70+80)/4\n",
    "y6 75 = (60+70+80+90)/4\n",
    "y7 85 = (70+80+90+100)/4\n",
    "Thus, the moving average sequence has n-k+1=10-4+1=7 values.\n",
    "\n",
    "Problem Statement\n",
    "Write a function to find moving average in an array over a window:\n",
    "Test it over [3, 5, 7, 2, 8, 10, 11, 65, 72, 81, 99, 100, 150] and window of 3.\n",
    "\"\"\"\n",
    "import numpy as np\n",
    "def Moving_Average(x,K):\n",
    "    res=[]\n",
    "    N=x.shape[0] # getting the number of elements of an array into the variable N\n",
    "    elmnt=0\n",
    "    count=N-K+1\n",
    "\n",
    "    for i in range(K,N+1):\n",
    "        sumelmnt=0\n",
    "        for j in range (elmnt,i):\n",
    "            sumelmnt=sumelmnt+x[j]\n",
    "        lst=sumelmnt/3\n",
    "        res.append(lst)\n",
    "        elmnt=elmnt+1\n",
    "    print(\"Given a sequence of\"+str(N)+\" values :\"+str(x)+\"\\nThe moving averages with k=\"+str(K)+\"\")\n",
    "    for i in range(1,count+1):\n",
    "        print(str(i)+\":\\t\"+str(res[i-1])+\"\\n\")\n",
    "    print(\"the moving average sequence has n-k+1=\" +str(N)+\"-\"+str(K)+\"+1=\"+str(count)+\"values\")\n",
    "\n",
    "inpt = np.array([3, 5, 7, 2, 8, 10, 11, 65, 72, 81, 99, 100, 150])\n",
    "K= int(input(\"Enter the Moving average\"))\n",
    "Moving_Average(inpt,K)"
   ]
  },
  {
   "cell_type": "code",
   "execution_count": null,
   "metadata": {},
   "outputs": [],
   "source": []
  }
 ],
 "metadata": {
  "kernelspec": {
   "display_name": "Python 3",
   "language": "python",
   "name": "python3"
  },
  "language_info": {
   "codemirror_mode": {
    "name": "ipython",
    "version": 3
   },
   "file_extension": ".py",
   "mimetype": "text/x-python",
   "name": "python",
   "nbconvert_exporter": "python",
   "pygments_lexer": "ipython3",
   "version": "3.7.0"
  }
 },
 "nbformat": 4,
 "nbformat_minor": 2
}
